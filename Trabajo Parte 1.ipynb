{
 "cells": [
  {
   "cell_type": "markdown",
   "id": "9c8d2d05-5db3-4e48-8ed2-09b66f3e5d81",
   "metadata": {},
   "source": [
    "# Carga de datos"
   ]
  },
  {
   "cell_type": "code",
   "execution_count": 1,
   "id": "5fdf1c13-f46f-4303-99cf-61e6d181c48b",
   "metadata": {},
   "outputs": [],
   "source": [
    "import pandas as pd\n",
    "import numpy as np\n",
    "import re\n",
    "import matplotlib.pyplot as plt"
   ]
  },
  {
   "cell_type": "code",
   "execution_count": 2,
   "id": "1cf853f9-8f61-4dd1-a7f7-83792297eb6f",
   "metadata": {},
   "outputs": [],
   "source": [
    "df = pd.read_csv(\"Tweets.csv\")"
   ]
  },
  {
   "cell_type": "code",
   "execution_count": 3,
   "id": "56f6b279-b516-44f0-9ba4-9c0693dc6025",
   "metadata": {},
   "outputs": [
    {
     "data": {
      "text/html": [
       "<div>\n",
       "<style scoped>\n",
       "    .dataframe tbody tr th:only-of-type {\n",
       "        vertical-align: middle;\n",
       "    }\n",
       "\n",
       "    .dataframe tbody tr th {\n",
       "        vertical-align: top;\n",
       "    }\n",
       "\n",
       "    .dataframe thead th {\n",
       "        text-align: right;\n",
       "    }\n",
       "</style>\n",
       "<table border=\"1\" class=\"dataframe\">\n",
       "  <thead>\n",
       "    <tr style=\"text-align: right;\">\n",
       "      <th></th>\n",
       "      <th>0</th>\n",
       "      <th>1</th>\n",
       "      <th>2</th>\n",
       "    </tr>\n",
       "  </thead>\n",
       "  <tbody>\n",
       "    <tr>\n",
       "      <th>tweet_id</th>\n",
       "      <td>570306133677760513</td>\n",
       "      <td>570301130888122368</td>\n",
       "      <td>570301083672813571</td>\n",
       "    </tr>\n",
       "    <tr>\n",
       "      <th>airline_sentiment</th>\n",
       "      <td>neutral</td>\n",
       "      <td>positive</td>\n",
       "      <td>neutral</td>\n",
       "    </tr>\n",
       "    <tr>\n",
       "      <th>airline_sentiment_confidence</th>\n",
       "      <td>1.0</td>\n",
       "      <td>0.3486</td>\n",
       "      <td>0.6837</td>\n",
       "    </tr>\n",
       "    <tr>\n",
       "      <th>negativereason</th>\n",
       "      <td>NaN</td>\n",
       "      <td>NaN</td>\n",
       "      <td>NaN</td>\n",
       "    </tr>\n",
       "    <tr>\n",
       "      <th>negativereason_confidence</th>\n",
       "      <td>NaN</td>\n",
       "      <td>0.0</td>\n",
       "      <td>NaN</td>\n",
       "    </tr>\n",
       "    <tr>\n",
       "      <th>airline</th>\n",
       "      <td>Virgin America</td>\n",
       "      <td>Virgin America</td>\n",
       "      <td>Virgin America</td>\n",
       "    </tr>\n",
       "    <tr>\n",
       "      <th>airline_sentiment_gold</th>\n",
       "      <td>NaN</td>\n",
       "      <td>NaN</td>\n",
       "      <td>NaN</td>\n",
       "    </tr>\n",
       "    <tr>\n",
       "      <th>name</th>\n",
       "      <td>cairdin</td>\n",
       "      <td>jnardino</td>\n",
       "      <td>yvonnalynn</td>\n",
       "    </tr>\n",
       "    <tr>\n",
       "      <th>negativereason_gold</th>\n",
       "      <td>NaN</td>\n",
       "      <td>NaN</td>\n",
       "      <td>NaN</td>\n",
       "    </tr>\n",
       "    <tr>\n",
       "      <th>retweet_count</th>\n",
       "      <td>0</td>\n",
       "      <td>0</td>\n",
       "      <td>0</td>\n",
       "    </tr>\n",
       "    <tr>\n",
       "      <th>text</th>\n",
       "      <td>@VirginAmerica What @dhepburn said.</td>\n",
       "      <td>@VirginAmerica plus you've added commercials t...</td>\n",
       "      <td>@VirginAmerica I didn't today... Must mean I n...</td>\n",
       "    </tr>\n",
       "    <tr>\n",
       "      <th>tweet_coord</th>\n",
       "      <td>NaN</td>\n",
       "      <td>NaN</td>\n",
       "      <td>NaN</td>\n",
       "    </tr>\n",
       "    <tr>\n",
       "      <th>tweet_created</th>\n",
       "      <td>2015-02-24 11:35:52 -0800</td>\n",
       "      <td>2015-02-24 11:15:59 -0800</td>\n",
       "      <td>2015-02-24 11:15:48 -0800</td>\n",
       "    </tr>\n",
       "    <tr>\n",
       "      <th>tweet_location</th>\n",
       "      <td>NaN</td>\n",
       "      <td>NaN</td>\n",
       "      <td>Lets Play</td>\n",
       "    </tr>\n",
       "    <tr>\n",
       "      <th>user_timezone</th>\n",
       "      <td>Eastern Time (US &amp; Canada)</td>\n",
       "      <td>Pacific Time (US &amp; Canada)</td>\n",
       "      <td>Central Time (US &amp; Canada)</td>\n",
       "    </tr>\n",
       "  </tbody>\n",
       "</table>\n",
       "</div>"
      ],
      "text/plain": [
       "                                                                0  \\\n",
       "tweet_id                                       570306133677760513   \n",
       "airline_sentiment                                         neutral   \n",
       "airline_sentiment_confidence                                  1.0   \n",
       "negativereason                                                NaN   \n",
       "negativereason_confidence                                     NaN   \n",
       "airline                                            Virgin America   \n",
       "airline_sentiment_gold                                        NaN   \n",
       "name                                                      cairdin   \n",
       "negativereason_gold                                           NaN   \n",
       "retweet_count                                                   0   \n",
       "text                          @VirginAmerica What @dhepburn said.   \n",
       "tweet_coord                                                   NaN   \n",
       "tweet_created                           2015-02-24 11:35:52 -0800   \n",
       "tweet_location                                                NaN   \n",
       "user_timezone                          Eastern Time (US & Canada)   \n",
       "\n",
       "                                                                              1  \\\n",
       "tweet_id                                                     570301130888122368   \n",
       "airline_sentiment                                                      positive   \n",
       "airline_sentiment_confidence                                             0.3486   \n",
       "negativereason                                                              NaN   \n",
       "negativereason_confidence                                                   0.0   \n",
       "airline                                                          Virgin America   \n",
       "airline_sentiment_gold                                                      NaN   \n",
       "name                                                                   jnardino   \n",
       "negativereason_gold                                                         NaN   \n",
       "retweet_count                                                                 0   \n",
       "text                          @VirginAmerica plus you've added commercials t...   \n",
       "tweet_coord                                                                 NaN   \n",
       "tweet_created                                         2015-02-24 11:15:59 -0800   \n",
       "tweet_location                                                              NaN   \n",
       "user_timezone                                        Pacific Time (US & Canada)   \n",
       "\n",
       "                                                                              2  \n",
       "tweet_id                                                     570301083672813571  \n",
       "airline_sentiment                                                       neutral  \n",
       "airline_sentiment_confidence                                             0.6837  \n",
       "negativereason                                                              NaN  \n",
       "negativereason_confidence                                                   NaN  \n",
       "airline                                                          Virgin America  \n",
       "airline_sentiment_gold                                                      NaN  \n",
       "name                                                                 yvonnalynn  \n",
       "negativereason_gold                                                         NaN  \n",
       "retweet_count                                                                 0  \n",
       "text                          @VirginAmerica I didn't today... Must mean I n...  \n",
       "tweet_coord                                                                 NaN  \n",
       "tweet_created                                         2015-02-24 11:15:48 -0800  \n",
       "tweet_location                                                        Lets Play  \n",
       "user_timezone                                        Central Time (US & Canada)  "
      ]
     },
     "execution_count": 3,
     "metadata": {},
     "output_type": "execute_result"
    }
   ],
   "source": [
    "df.head(3).T"
   ]
  },
  {
   "cell_type": "code",
   "execution_count": 4,
   "id": "88a8ce01-d73b-48fe-b93c-2d2de10e237a",
   "metadata": {},
   "outputs": [
    {
     "data": {
      "text/plain": [
       "(14640, 15)"
      ]
     },
     "execution_count": 4,
     "metadata": {},
     "output_type": "execute_result"
    }
   ],
   "source": [
    "df.shape"
   ]
  },
  {
   "cell_type": "code",
   "execution_count": 5,
   "id": "2e5b9353-9b41-40f1-a417-e6b2174668be",
   "metadata": {},
   "outputs": [
    {
     "data": {
      "text/plain": [
       "tweet_id                            0\n",
       "airline_sentiment                   0\n",
       "airline_sentiment_confidence        0\n",
       "negativereason                   5462\n",
       "negativereason_confidence        4118\n",
       "airline                             0\n",
       "airline_sentiment_gold          14600\n",
       "name                                0\n",
       "negativereason_gold             14608\n",
       "retweet_count                       0\n",
       "text                                0\n",
       "tweet_coord                     13621\n",
       "tweet_created                       0\n",
       "tweet_location                   4733\n",
       "user_timezone                    4820\n",
       "dtype: int64"
      ]
     },
     "execution_count": 5,
     "metadata": {},
     "output_type": "execute_result"
    }
   ],
   "source": [
    "df.isna().sum()"
   ]
  },
  {
   "cell_type": "code",
   "execution_count": 6,
   "id": "bb5ae8c2-9a4c-4c6c-830a-568dcdb90bb7",
   "metadata": {},
   "outputs": [
    {
     "data": {
      "image/png": "[encoded data removed]",
      "text/plain": [
       "<Figure size 640x480 with 1 Axes>"
      ]
     },
     "metadata": {},
     "output_type": "display_data"
    }
   ],
   "source": [
    "sentiment_counts = df['airline_sentiment'].value_counts()\n",
    "\n",
    "sentiment_counts.plot(kind='bar')\n",
    "plt.title('Conteo de sentimientos')\n",
    "plt.xlabel('Sentimiento')\n",
    "plt.ylabel('Cantidad')\n",
    "plt.show()"
   ]
  },
  {
   "cell_type": "code",
   "execution_count": 7,
   "id": "525829cd-ac1d-48d0-8832-fda03b08bb9c",
   "metadata": {},
   "outputs": [
    {
     "data": {
      "text/plain": [
       "airline_sentiment\n",
       "negative    0.626913\n",
       "neutral     0.211680\n",
       "positive    0.161407\n",
       "Name: proportion, dtype: float64"
      ]
     },
     "execution_count": 7,
     "metadata": {},
     "output_type": "execute_result"
    }
   ],
   "source": [
    "df['airline_sentiment'].value_counts(normalize=True)"
   ]
  },
  {
   "cell_type": "code",
   "execution_count": 8,
   "id": "62b8ac9b-b288-4848-9ad8-d2fd146f17a2",
   "metadata": {},
   "outputs": [
    {
     "data": {
      "image/png": "[encoded data removed]",
      "text/plain": [
       "<Figure size 640x480 with 1 Axes>"
      ]
     },
     "metadata": {},
     "output_type": "display_data"
    }
   ],
   "source": [
    "airline_count = df['airline'].value_counts()\n",
    "\n",
    "airline_count.plot(kind='bar')\n",
    "plt.title('Conteo de aerolíneas')\n",
    "plt.xlabel('Aerolínea')\n",
    "plt.ylabel('Cantidad')\n",
    "plt.show()"
   ]
  },
  {
   "cell_type": "code",
   "execution_count": 9,
   "id": "0064ead0-6450-4c4c-905e-109ab8b0980e",
   "metadata": {},
   "outputs": [
    {
     "data": {
      "image/png": "[encoded data removed]",
      "text/plain": [
       "<Figure size 640x480 with 1 Axes>"
      ]
     },
     "metadata": {},
     "output_type": "display_data"
    }
   ],
   "source": [
    "df['is_negative'] = df['airline_sentiment'] == \"negative\"\n",
    "\n",
    "mean_negative = df.groupby(\"airline\")['is_negative'].mean().sort_values()\n",
    "\n",
    "mean_negative.plot(kind='bar')\n",
    "plt.title('Negatividad por aerolíneas')\n",
    "plt.xlabel('Aerolínea')\n",
    "plt.ylabel('Porcentaje negatividad')\n",
    "plt.show()"
   ]
  },
  {
   "cell_type": "code",
   "execution_count": 10,
   "id": "1b07c981-da49-44a8-a560-38a060c64563",
   "metadata": {},
   "outputs": [
    {
     "data": {
      "text/plain": [
       "array(['neutral', 'positive', 'neutral'], dtype=object)"
      ]
     },
     "execution_count": 10,
     "metadata": {},
     "output_type": "execute_result"
    }
   ],
   "source": [
    "df['airline_sentiment'].values[:3]"
   ]
  },
  {
   "cell_type": "code",
   "execution_count": 11,
   "id": "0fd2cc06-1fc1-412d-8ddc-7ae211752692",
   "metadata": {},
   "outputs": [
    {
     "data": {
      "text/plain": [
       "array([\"@VirginAmerica plus you've added commercials to the experience... tacky.\",\n",
       "       \"@VirginAmerica I didn't today... Must mean I need to take another trip!\",\n",
       "       '@VirginAmerica it\\'s really aggressive to blast obnoxious \"entertainment\" in your guests\\' faces &amp; they have little recourse',\n",
       "       \"@VirginAmerica and it's a really big bad thing about it\",\n",
       "       \"@VirginAmerica seriously would pay $30 a flight for seats that didn't have this playing.\\nit's really the only bad thing about flying VA\"],\n",
       "      dtype=object)"
      ]
     },
     "execution_count": 11,
     "metadata": {},
     "output_type": "execute_result"
    }
   ],
   "source": [
    "df['text'].values[1:6]"
   ]
  },
  {
   "cell_type": "code",
   "execution_count": 12,
   "id": "9c01d30f-1c01-49f9-9cc9-31f0447a0952",
   "metadata": {},
   "outputs": [
    {
     "data": {
      "text/plain": [
       "array(['@VirginAmerica Is flight 769 on it\\'s way? Was supposed to take off 30 minutes ago. Website still shows \"On Time\" not \"In Flight\". Thanks.',\n",
       "       '@VirginAmerica @ladygaga @carrieunderwood Julie Andrews all the way though @ladygaga was very impressive! NO to @Carrieunderwood',\n",
       "       '@VirginAmerica wish you flew out of Atlanta... Soon?', ...,\n",
       "       '@AmericanAir Please bring American Airlines to #BlackBerry10',\n",
       "       \"@AmericanAir you have my money, you change my flight, and don't answer your phones! Any other suggestions so I can make my commitment??\",\n",
       "       '@AmericanAir we have 8 ppl so we need 2 know how many seats are on the next flight. Plz put us on standby for 4 people on the next flight?'],\n",
       "      dtype=object)"
      ]
     },
     "execution_count": 12,
     "metadata": {},
     "output_type": "execute_result"
    }
   ],
   "source": [
    "df['text'].values[50:]"
   ]
  },
  {
   "cell_type": "markdown",
   "id": "84d915fd-c245-4295-a8a8-cc6c64a38b3b",
   "metadata": {},
   "source": [
    "### Preprocesamiento del texto\n",
    "\n",
    "Algunos tweets de ejemplo que aparecen son los siguientes:\n",
    "\n",
    "@VirginAmerica plus you've added commercials to the experience... tacky.\n",
    "\n",
    "@VirginAmerica What @dhepburn said.\n",
    "\n",
    "@VirginAmerica seriously would pay $30 a flight for seats that didn't have this playing.\\nit's really the only bad thing about flying VA\n",
    "\n",
    "@AmericanAir Please bring American Airlines to #BlackBerry10\n",
    "\n",
    "@VirginAmerica View of downtown Los Angeles, the Hollywood Sign, and beyond that rain in the mountains! http://t.co/Dw5nf0ibtr\n",
    "\n",
    "En estos textos vemos que algunas palabras son simplemente etiquetados de tweeter, hashtags, links y también hay caracteres innecesarios como triple puntos suspensivos entre otros. Nuestro primer trabajo de limpieza será la eliminación de los mismos"
   ]
  },
  {
   "cell_type": "code",
   "execution_count": 13,
   "id": "bf6cb317-5084-4ba1-834a-70895783e09d",
   "metadata": {},
   "outputs": [],
   "source": [
    "def proccess_tweet(tweet):\n",
    "    tweet = tweet.lower() #minúsculas\n",
    "    tweet = tweet.replace(\" RT \",\"\") #sacamos los RT\n",
    "    tweet = tweet.replace(\"!\",\"\") #Sacamos los !\n",
    "    tweet_words = tweet.split() \n",
    "    tweet_words = [x for x in tweet_words if not x.startswith(\"@\")] #eliminar etiquetas\n",
    "    tweet_words = [x for x in tweet_words if not x.startswith(\"http\")] #enlaces fuera\n",
    "    tweet_words = [x for x in tweet_words if not (\"&\" in x and \"#\" in x)] # todo lo que tenga & y #m, fuera\n",
    "    tweet = \" \".join(tweet_words) #reunimos\n",
    "    tweet = re.sub(\"[^a-zA-Z0-9']\",\" \",tweet) #sacamos símbolos raros\n",
    "    return tweet"
   ]
  },
  {
   "cell_type": "code",
   "execution_count": 14,
   "id": "0958bdff-fb56-42bf-b136-2961da1f51d2",
   "metadata": {},
   "outputs": [],
   "source": [
    "df['text_clean'] = df['text'].apply(proccess_tweet)"
   ]
  },
  {
   "cell_type": "code",
   "execution_count": 15,
   "id": "3ba37306-9f3f-4786-bbc4-b1ca45e8c437",
   "metadata": {},
   "outputs": [
    {
     "data": {
      "text/plain": [
       "array(['@VirginAmerica What @dhepburn said.',\n",
       "       \"@VirginAmerica plus you've added commercials to the experience... tacky.\",\n",
       "       \"@VirginAmerica I didn't today... Must mean I need to take another trip!\"],\n",
       "      dtype=object)"
      ]
     },
     "execution_count": 15,
     "metadata": {},
     "output_type": "execute_result"
    }
   ],
   "source": [
    "df['text'].values[:3]"
   ]
  },
  {
   "cell_type": "code",
   "execution_count": 16,
   "id": "e0862592-5277-4653-a47b-91648a7f9de5",
   "metadata": {},
   "outputs": [
    {
     "data": {
      "text/plain": [
       "array(['what said ',\n",
       "       \"plus you've added commercials to the experience    tacky \",\n",
       "       \"i didn't today    must mean i need to take another trip\"],\n",
       "      dtype=object)"
      ]
     },
     "execution_count": 16,
     "metadata": {},
     "output_type": "execute_result"
    }
   ],
   "source": [
    "df['text_clean'].values[:3]"
   ]
  },
  {
   "cell_type": "markdown",
   "id": "107cde98-e1da-48cd-9838-26da718ce320",
   "metadata": {},
   "source": [
    "Vemos el resultado de la limpieza de inmediato, los tweets se han liberado de los trozos de texto no necesarios."
   ]
  },
  {
   "cell_type": "markdown",
   "id": "e72f89bf-d0a8-414a-9668-fdc41b62dc49",
   "metadata": {},
   "source": [
    "### División de los datos\n",
    "\n",
    "Vamos a dividir nuestros datos en entrenamiento, validación y testeo.\n",
    "\n",
    "Vamos a utilizar estratificación también para asegurarnos balanceo, aunque seguramente no haría tanta falta"
   ]
  },
  {
   "cell_type": "code",
   "execution_count": 17,
   "id": "55e3d865-ee27-4a55-81ae-50e9ae4db168",
   "metadata": {},
   "outputs": [],
   "source": [
    "from sklearn.model_selection import train_test_split"
   ]
  },
  {
   "cell_type": "code",
   "execution_count": 18,
   "id": "f34cf029-c173-4867-85eb-5c84e2e98416",
   "metadata": {},
   "outputs": [],
   "source": [
    "X_train_val, X_test, y_train_val, y_test = train_test_split(df['text_clean'], df['airline_sentiment'], \n",
    "                                                            test_size=0.15, \n",
    "                                                            random_state=42, \n",
    "                                                            stratify=df['airline_sentiment'])"
   ]
  },
  {
   "cell_type": "code",
   "execution_count": 19,
   "id": "4d13f3f5-7a42-490c-aee7-c8c584805302",
   "metadata": {},
   "outputs": [],
   "source": [
    "X_train, X_val, y_train, y_val = train_test_split(X_train_val, y_train_val, test_size=0.2, random_state=42, stratify=y_train_val)"
   ]
  },
  {
   "cell_type": "code",
   "execution_count": 20,
   "id": "7d9270e5-7cb2-4cb1-97d8-1c7b8a08228e",
   "metadata": {},
   "outputs": [
    {
     "data": {
      "text/plain": [
       "(9955, 2489, 2196)"
      ]
     },
     "execution_count": 20,
     "metadata": {},
     "output_type": "execute_result"
    }
   ],
   "source": [
    "len(y_train), len(y_val), len(y_test)"
   ]
  },
  {
   "cell_type": "markdown",
   "id": "ed41f346-4551-406a-ad16-add3296e24ff",
   "metadata": {},
   "source": [
    "## Preprocesamiento. Count vectorizer"
   ]
  },
  {
   "cell_type": "code",
   "execution_count": 21,
   "id": "5ea35c7f-0ab4-4efa-bab7-f5589abf0463",
   "metadata": {},
   "outputs": [],
   "source": [
    "from sklearn.datasets import fetch_20newsgroups\n",
    "from sklearn.feature_extraction.text import TfidfVectorizer\n",
    "from sklearn.naive_bayes import MultinomialNB\n",
    "from sklearn.pipeline import make_pipeline\n",
    "from sklearn.metrics import confusion_matrix, accuracy_score, ConfusionMatrixDisplay, classification_report\n",
    "from sklearn.feature_extraction.text import CountVectorizer"
   ]
  },
  {
   "cell_type": "code",
   "execution_count": 22,
   "id": "d32fb554-7103-4dd4-98f1-c8d64636070c",
   "metadata": {},
   "outputs": [],
   "source": [
    "count_vec = CountVectorizer()\n",
    "bow = count_vec.fit_transform(X_train)\n",
    "bow = np.array(bow.todense())"
   ]
  },
  {
   "cell_type": "markdown",
   "id": "1124c7eb-2d8f-4802-acc3-66cf07524d5f",
   "metadata": {},
   "source": [
    "# MODELOS"
   ]
  },
  {
   "cell_type": "markdown",
   "id": "7c2619b9-dfce-4b23-b338-2537bb17b695",
   "metadata": {},
   "source": [
    "### Naive Bayes Model"
   ]
  },
  {
   "cell_type": "code",
   "execution_count": 23,
   "id": "b7271ddb-11bc-487c-91a9-ad1da5f3a38e",
   "metadata": {},
   "outputs": [],
   "source": [
    "model = MultinomialNB().fit(bow, y_train)"
   ]
  },
  {
   "cell_type": "code",
   "execution_count": 24,
   "id": "fe976e90-1f5c-4e0f-8707-b47e4fbf292e",
   "metadata": {},
   "outputs": [],
   "source": [
    "y_pred = model.predict(count_vec.transform(X_test))"
   ]
  },
  {
   "cell_type": "markdown",
   "id": "e4f7341c-a488-417f-9ee6-9e8592a8abab",
   "metadata": {},
   "source": [
    "### Resultados"
   ]
  },
  {
   "cell_type": "code",
   "execution_count": 25,
   "id": "0588127c-6656-4279-bd52-ee9cc9a99a8c",
   "metadata": {},
   "outputs": [
    {
     "name": "stdout",
     "output_type": "stream",
     "text": [
      "Acc is: 0.7682149362477231\n"
     ]
    }
   ],
   "source": [
    "print(f\"Acc is: {np.mean(y_pred == y_test)}\")"
   ]
  },
  {
   "cell_type": "code",
   "execution_count": 26,
   "id": "863bbde4-d6ef-49b0-b45f-02a65a7750fe",
   "metadata": {},
   "outputs": [
    {
     "name": "stdout",
     "output_type": "stream",
     "text": [
      "              precision    recall  f1-score   support\n",
      "\n",
      "    negative       0.77      0.96      0.86      1377\n",
      "     neutral       0.70      0.39      0.50       465\n",
      "    positive       0.83      0.51      0.63       354\n",
      "\n",
      "    accuracy                           0.77      2196\n",
      "   macro avg       0.77      0.62      0.66      2196\n",
      "weighted avg       0.76      0.77      0.74      2196\n",
      "\n"
     ]
    }
   ],
   "source": [
    "print(classification_report(y_test, y_pred))"
   ]
  },
  {
   "cell_type": "code",
   "execution_count": 27,
   "id": "38490e93-a25f-4cd0-b44c-b774cef46106",
   "metadata": {},
   "outputs": [
    {
     "data": {
      "text/plain": [
       "<sklearn.metrics._plot.confusion_matrix.ConfusionMatrixDisplay at 0x1369051f0>"
      ]
     },
     "execution_count": 27,
     "metadata": {},
     "output_type": "execute_result"
    },
    {
     "data": {
      "image/png": "[encoded data removed]",
      "text/plain": [
       "<Figure size 600x600 with 2 Axes>"
      ]
     },
     "metadata": {},
     "output_type": "display_data"
    }
   ],
   "source": [
    "fig, ax = plt.subplots(nrows=1, figsize=(6, 6))\n",
    "ax.grid(False)\n",
    "\n",
    "cm = confusion_matrix(y_test, y_pred)\n",
    "ConfusionMatrixDisplay(cm, display_labels = sorted(set(y_test))).plot(cmap=\"viridis\", ax=ax)"
   ]
  },
  {
   "cell_type": "markdown",
   "id": "3da0dfb4-0b47-4a8b-94c4-d087fed16e09",
   "metadata": {},
   "source": [
    "## Random forest classifier"
   ]
  },
  {
   "cell_type": "code",
   "execution_count": 28,
   "id": "a299410f-eb82-4393-98d5-72bad931eaa5",
   "metadata": {},
   "outputs": [],
   "source": [
    "from sklearn.ensemble import RandomForestClassifier"
   ]
  },
  {
   "cell_type": "code",
   "execution_count": 29,
   "id": "bac256e4-4cf4-4d34-bde3-a6be3f4b94c6",
   "metadata": {},
   "outputs": [
    {
     "data": {
      "text/html": [
       "<style>#sk-container-id-1 {color: black;}#sk-container-id-1 pre{padding: 0;}#sk-container-id-1 div.sk-toggleable {background-color: white;}#sk-container-id-1 label.sk-toggleable__label {cursor: pointer;display: block;width: 100%;margin-bottom: 0;padding: 0.3em;box-sizing: border-box;text-align: center;}#sk-container-id-1 label.sk-toggleable__label-arrow:before {content: \"▸\";float: left;margin-right: 0.25em;color: #696969;}#sk-container-id-1 label.sk-toggleable__label-arrow:hover:before {color: black;}#sk-container-id-1 div.sk-estimator:hover label.sk-toggleable__label-arrow:before {color: black;}#sk-container-id-1 div.sk-toggleable__content {max-height: 0;max-width: 0;overflow: hidden;text-align: left;background-color: #f0f8ff;}#sk-container-id-1 div.sk-toggleable__content pre {margin: 0.2em;color: black;border-radius: 0.25em;background-color: #f0f8ff;}#sk-container-id-1 input.sk-toggleable__control:checked~div.sk-toggleable__content {max-height: 200px;max-width: 100%;overflow: auto;}#sk-container-id-1 input.sk-toggleable__control:checked~label.sk-toggleable__label-arrow:before {content: \"▾\";}#sk-container-id-1 div.sk-estimator input.sk-toggleable__control:checked~label.sk-toggleable__label {background-color: #d4ebff;}#sk-container-id-1 div.sk-label input.sk-toggleable__control:checked~label.sk-toggleable__label {background-color: #d4ebff;}#sk-container-id-1 input.sk-hidden--visually {border: 0;clip: rect(1px 1px 1px 1px);clip: rect(1px, 1px, 1px, 1px);height: 1px;margin: -1px;overflow: hidden;padding: 0;position: absolute;width: 1px;}#sk-container-id-1 div.sk-estimator {font-family: monospace;background-color: #f0f8ff;border: 1px dotted black;border-radius: 0.25em;box-sizing: border-box;margin-bottom: 0.5em;}#sk-container-id-1 div.sk-estimator:hover {background-color: #d4ebff;}#sk-container-id-1 div.sk-parallel-item::after {content: \"\";width: 100%;border-bottom: 1px solid gray;flex-grow: 1;}#sk-container-id-1 div.sk-label:hover label.sk-toggleable__label {background-color: #d4ebff;}#sk-container-id-1 div.sk-serial::before {content: \"\";position: absolute;border-left: 1px solid gray;box-sizing: border-box;top: 0;bottom: 0;left: 50%;z-index: 0;}#sk-container-id-1 div.sk-serial {display: flex;flex-direction: column;align-items: center;background-color: white;padding-right: 0.2em;padding-left: 0.2em;position: relative;}#sk-container-id-1 div.sk-item {position: relative;z-index: 1;}#sk-container-id-1 div.sk-parallel {display: flex;align-items: stretch;justify-content: center;background-color: white;position: relative;}#sk-container-id-1 div.sk-item::before, #sk-container-id-1 div.sk-parallel-item::before {content: \"\";position: absolute;border-left: 1px solid gray;box-sizing: border-box;top: 0;bottom: 0;left: 50%;z-index: -1;}#sk-container-id-1 div.sk-parallel-item {display: flex;flex-direction: column;z-index: 1;position: relative;background-color: white;}#sk-container-id-1 div.sk-parallel-item:first-child::after {align-self: flex-end;width: 50%;}#sk-container-id-1 div.sk-parallel-item:last-child::after {align-self: flex-start;width: 50%;}#sk-container-id-1 div.sk-parallel-item:only-child::after {width: 0;}#sk-container-id-1 div.sk-dashed-wrapped {border: 1px dashed gray;margin: 0 0.4em 0.5em 0.4em;box-sizing: border-box;padding-bottom: 0.4em;background-color: white;}#sk-container-id-1 div.sk-label label {font-family: monospace;font-weight: bold;display: inline-block;line-height: 1.2em;}#sk-container-id-1 div.sk-label-container {text-align: center;}#sk-container-id-1 div.sk-container {/* jupyter's `normalize.less` sets `[hidden] { display: none; }` but bootstrap.min.css set `[hidden] { display: none !important; }` so we also need the `!important` here to be able to override the default hidden behavior on the sphinx rendered scikit-learn.org. See: https://github.com/scikit-learn/scikit-learn/issues/21755 */display: inline-block !important;position: relative;}#sk-container-id-1 div.sk-text-repr-fallback {display: none;}</style><div id=\"sk-container-id-1\" class=\"sk-top-container\"><div class=\"sk-text-repr-fallback\"><pre>RandomForestClassifier(max_depth=50, n_estimators=200, random_state=0)</pre><b>In a Jupyter environment, please rerun this cell to show the HTML representation or trust the notebook. <br />On GitHub, the HTML representation is unable to render, please try loading this page with nbviewer.org.</b></div><div class=\"sk-container\" hidden><div class=\"sk-item\"><div class=\"sk-estimator sk-toggleable\"><input class=\"sk-toggleable__control sk-hidden--visually\" id=\"sk-estimator-id-1\" type=\"checkbox\" checked><label for=\"sk-estimator-id-1\" class=\"sk-toggleable__label sk-toggleable__label-arrow\">RandomForestClassifier</label><div class=\"sk-toggleable__content\"><pre>RandomForestClassifier(max_depth=50, n_estimators=200, random_state=0)</pre></div></div></div></div></div>"
      ],
      "text/plain": [
       "RandomForestClassifier(max_depth=50, n_estimators=200, random_state=0)"
      ]
     },
     "execution_count": 29,
     "metadata": {},
     "output_type": "execute_result"
    }
   ],
   "source": [
    "rf = RandomForestClassifier(n_estimators=200, bootstrap=True, criterion='gini', max_depth=50, random_state=0)\n",
    "rf.fit(bow, y_train)"
   ]
  },
  {
   "cell_type": "code",
   "execution_count": 30,
   "id": "e01f3cee-e2a0-4894-8f36-65a40f31eab9",
   "metadata": {},
   "outputs": [],
   "source": [
    "y_pred = rf.predict(count_vec.transform(X_test))"
   ]
  },
  {
   "cell_type": "markdown",
   "id": "9d21e128-005a-4c23-8439-41498d4d58b7",
   "metadata": {},
   "source": [
    "### Resultados"
   ]
  },
  {
   "cell_type": "code",
   "execution_count": 31,
   "id": "82554705-2551-4e0a-9b51-5ac3500dde8c",
   "metadata": {},
   "outputs": [
    {
     "name": "stdout",
     "output_type": "stream",
     "text": [
      "Acc is: 0.7090163934426229\n"
     ]
    }
   ],
   "source": [
    "print(f\"Acc is: {np.mean(y_pred == y_test)}\")"
   ]
  },
  {
   "cell_type": "code",
   "execution_count": 32,
   "id": "4a76b183-29c8-4fd5-b938-fcc64110ae34",
   "metadata": {},
   "outputs": [
    {
     "name": "stdout",
     "output_type": "stream",
     "text": [
      "              precision    recall  f1-score   support\n",
      "\n",
      "    negative       0.69      0.99      0.82      1377\n",
      "     neutral       0.85      0.14      0.24       465\n",
      "    positive       0.87      0.35      0.50       354\n",
      "\n",
      "    accuracy                           0.71      2196\n",
      "   macro avg       0.81      0.49      0.52      2196\n",
      "weighted avg       0.76      0.71      0.64      2196\n",
      "\n"
     ]
    }
   ],
   "source": [
    "print(classification_report(y_test, y_pred))"
   ]
  },
  {
   "cell_type": "code",
   "execution_count": 33,
   "id": "0f6ecebe-5bd3-46aa-873f-6b22adc662b0",
   "metadata": {},
   "outputs": [
    {
     "data": {
      "text/plain": [
       "<sklearn.metrics._plot.confusion_matrix.ConfusionMatrixDisplay at 0x14019b880>"
      ]
     },
     "execution_count": 33,
     "metadata": {},
     "output_type": "execute_result"
    },
    {
     "data": {
      "image/png": "[encoded data removed]",
      "text/plain": [
       "<Figure size 600x600 with 2 Axes>"
      ]
     },
     "metadata": {},
     "output_type": "display_data"
    }
   ],
   "source": [
    "fig, ax = plt.subplots(nrows=1, figsize=(6, 6))\n",
    "ax.grid(False)\n",
    "\n",
    "cm = confusion_matrix(y_test, y_pred)\n",
    "ConfusionMatrixDisplay(cm, display_labels = sorted(set(y_test))).plot(cmap=\"viridis\", ax=ax)"
   ]
  },
  {
   "cell_type": "markdown",
   "id": "253308a4-9823-44b6-97dd-7182244f060c",
   "metadata": {},
   "source": [
    "# SVM + Lematization"
   ]
  },
  {
   "cell_type": "markdown",
   "id": "7b7ed6fb-34f4-4f4c-9a54-de6d15f927f8",
   "metadata": {},
   "source": [
    "### Preprocesamiento"
   ]
  },
  {
   "cell_type": "code",
   "execution_count": 34,
   "id": "36bd289b-377c-4a6a-87e7-9a3b7f61ad7c",
   "metadata": {},
   "outputs": [],
   "source": [
    "import nltk\n",
    "from nltk.tokenize import word_tokenize\n",
    "from nltk import pos_tag\n",
    "from nltk.corpus import stopwords\n",
    "from nltk.stem import WordNetLemmatizer\n",
    "from sklearn.preprocessing import LabelEncoder\n",
    "from collections import defaultdict\n",
    "from nltk.corpus import wordnet as wn\n",
    "from sklearn.feature_extraction.text import TfidfVectorizer\n",
    "from sklearn import model_selection, naive_bayes, svm\n",
    "from sklearn.metrics import accuracy_score"
   ]
  },
  {
   "cell_type": "code",
   "execution_count": 35,
   "id": "2532acd4-b5e4-4638-a4ad-8e192608b498",
   "metadata": {},
   "outputs": [],
   "source": [
    "lemma = WordNetLemmatizer()\n",
    "swords = stopwords.words(\"english\")"
   ]
  },
  {
   "cell_type": "code",
   "execution_count": 36,
   "id": "76bb7a97-16d4-4d7c-ace6-33dc4f443e7c",
   "metadata": {},
   "outputs": [],
   "source": [
    "def clean_data(list_of_words):\n",
    "    return_list = []\n",
    "    for text in list_of_words:\n",
    "        text = re.sub(\"[^a-zA-Z0-9]\",\" \",text)\n",
    "        text = nltk.word_tokenize(text)\n",
    "        text = [lemma.lemmatize(word) for word in text]\n",
    "        text = [word for word in text if word not in swords]\n",
    "        text = \" \".join(text)\n",
    "        return_list.append(text)\n",
    "    return return_list"
   ]
  },
  {
   "cell_type": "code",
   "execution_count": 37,
   "id": "aebf0864-5206-47e9-8bb7-9b2397963605",
   "metadata": {},
   "outputs": [],
   "source": [
    "new_X_train = clean_data(X_train)"
   ]
  },
  {
   "cell_type": "code",
   "execution_count": 38,
   "id": "c2a5e7c8-5f01-4053-b79a-eb98b8de84e7",
   "metadata": {},
   "outputs": [],
   "source": [
    "vectorizer = CountVectorizer(max_features=10000)\n",
    "\n",
    "BOW = vectorizer.fit_transform(new_X_train)"
   ]
  },
  {
   "cell_type": "markdown",
   "id": "db09c278-dc63-4290-82be-d9288228b603",
   "metadata": {},
   "source": [
    "### Modelo"
   ]
  },
  {
   "cell_type": "code",
   "execution_count": 39,
   "id": "a0d74439-df6b-4787-9d25-567b9609e3d6",
   "metadata": {},
   "outputs": [
    {
     "data": {
      "text/html": [
       "<style>#sk-container-id-2 {color: black;}#sk-container-id-2 pre{padding: 0;}#sk-container-id-2 div.sk-toggleable {background-color: white;}#sk-container-id-2 label.sk-toggleable__label {cursor: pointer;display: block;width: 100%;margin-bottom: 0;padding: 0.3em;box-sizing: border-box;text-align: center;}#sk-container-id-2 label.sk-toggleable__label-arrow:before {content: \"▸\";float: left;margin-right: 0.25em;color: #696969;}#sk-container-id-2 label.sk-toggleable__label-arrow:hover:before {color: black;}#sk-container-id-2 div.sk-estimator:hover label.sk-toggleable__label-arrow:before {color: black;}#sk-container-id-2 div.sk-toggleable__content {max-height: 0;max-width: 0;overflow: hidden;text-align: left;background-color: #f0f8ff;}#sk-container-id-2 div.sk-toggleable__content pre {margin: 0.2em;color: black;border-radius: 0.25em;background-color: #f0f8ff;}#sk-container-id-2 input.sk-toggleable__control:checked~div.sk-toggleable__content {max-height: 200px;max-width: 100%;overflow: auto;}#sk-container-id-2 input.sk-toggleable__control:checked~label.sk-toggleable__label-arrow:before {content: \"▾\";}#sk-container-id-2 div.sk-estimator input.sk-toggleable__control:checked~label.sk-toggleable__label {background-color: #d4ebff;}#sk-container-id-2 div.sk-label input.sk-toggleable__control:checked~label.sk-toggleable__label {background-color: #d4ebff;}#sk-container-id-2 input.sk-hidden--visually {border: 0;clip: rect(1px 1px 1px 1px);clip: rect(1px, 1px, 1px, 1px);height: 1px;margin: -1px;overflow: hidden;padding: 0;position: absolute;width: 1px;}#sk-container-id-2 div.sk-estimator {font-family: monospace;background-color: #f0f8ff;border: 1px dotted black;border-radius: 0.25em;box-sizing: border-box;margin-bottom: 0.5em;}#sk-container-id-2 div.sk-estimator:hover {background-color: #d4ebff;}#sk-container-id-2 div.sk-parallel-item::after {content: \"\";width: 100%;border-bottom: 1px solid gray;flex-grow: 1;}#sk-container-id-2 div.sk-label:hover label.sk-toggleable__label {background-color: #d4ebff;}#sk-container-id-2 div.sk-serial::before {content: \"\";position: absolute;border-left: 1px solid gray;box-sizing: border-box;top: 0;bottom: 0;left: 50%;z-index: 0;}#sk-container-id-2 div.sk-serial {display: flex;flex-direction: column;align-items: center;background-color: white;padding-right: 0.2em;padding-left: 0.2em;position: relative;}#sk-container-id-2 div.sk-item {position: relative;z-index: 1;}#sk-container-id-2 div.sk-parallel {display: flex;align-items: stretch;justify-content: center;background-color: white;position: relative;}#sk-container-id-2 div.sk-item::before, #sk-container-id-2 div.sk-parallel-item::before {content: \"\";position: absolute;border-left: 1px solid gray;box-sizing: border-box;top: 0;bottom: 0;left: 50%;z-index: -1;}#sk-container-id-2 div.sk-parallel-item {display: flex;flex-direction: column;z-index: 1;position: relative;background-color: white;}#sk-container-id-2 div.sk-parallel-item:first-child::after {align-self: flex-end;width: 50%;}#sk-container-id-2 div.sk-parallel-item:last-child::after {align-self: flex-start;width: 50%;}#sk-container-id-2 div.sk-parallel-item:only-child::after {width: 0;}#sk-container-id-2 div.sk-dashed-wrapped {border: 1px dashed gray;margin: 0 0.4em 0.5em 0.4em;box-sizing: border-box;padding-bottom: 0.4em;background-color: white;}#sk-container-id-2 div.sk-label label {font-family: monospace;font-weight: bold;display: inline-block;line-height: 1.2em;}#sk-container-id-2 div.sk-label-container {text-align: center;}#sk-container-id-2 div.sk-container {/* jupyter's `normalize.less` sets `[hidden] { display: none; }` but bootstrap.min.css set `[hidden] { display: none !important; }` so we also need the `!important` here to be able to override the default hidden behavior on the sphinx rendered scikit-learn.org. See: https://github.com/scikit-learn/scikit-learn/issues/21755 */display: inline-block !important;position: relative;}#sk-container-id-2 div.sk-text-repr-fallback {display: none;}</style><div id=\"sk-container-id-2\" class=\"sk-top-container\"><div class=\"sk-text-repr-fallback\"><pre>SVC()</pre><b>In a Jupyter environment, please rerun this cell to show the HTML representation or trust the notebook. <br />On GitHub, the HTML representation is unable to render, please try loading this page with nbviewer.org.</b></div><div class=\"sk-container\" hidden><div class=\"sk-item\"><div class=\"sk-estimator sk-toggleable\"><input class=\"sk-toggleable__control sk-hidden--visually\" id=\"sk-estimator-id-2\" type=\"checkbox\" checked><label for=\"sk-estimator-id-2\" class=\"sk-toggleable__label sk-toggleable__label-arrow\">SVC</label><div class=\"sk-toggleable__content\"><pre>SVC()</pre></div></div></div></div></div>"
      ],
      "text/plain": [
       "SVC()"
      ]
     },
     "execution_count": 39,
     "metadata": {},
     "output_type": "execute_result"
    }
   ],
   "source": [
    "from sklearn.svm import SVC\n",
    "\n",
    "svc_model = SVC()\n",
    "svc_model.fit(BOW,y_train)"
   ]
  },
  {
   "cell_type": "code",
   "execution_count": 40,
   "id": "ddeffc3a-f78d-44b0-bf5d-3279724c4120",
   "metadata": {},
   "outputs": [],
   "source": [
    "new_X_test = clean_data(X_test)"
   ]
  },
  {
   "cell_type": "code",
   "execution_count": 41,
   "id": "d1613ca6-960b-46cd-bfb5-3fa76ecad227",
   "metadata": {},
   "outputs": [],
   "source": [
    "BOW_test = vectorizer.transform(new_X_test)"
   ]
  },
  {
   "cell_type": "markdown",
   "id": "21fcc7d0-68a1-4de3-b32a-b2eb3843d6d9",
   "metadata": {},
   "source": [
    "### Resultados"
   ]
  },
  {
   "cell_type": "code",
   "execution_count": 42,
   "id": "0f1faf97-1f25-4bf5-958a-62c9c6dacab5",
   "metadata": {},
   "outputs": [],
   "source": [
    "y_pred = svc_model.predict(BOW_test)"
   ]
  },
  {
   "cell_type": "code",
   "execution_count": 43,
   "id": "40caeee9-185a-44d0-a9b3-456eae7974b1",
   "metadata": {},
   "outputs": [
    {
     "name": "stdout",
     "output_type": "stream",
     "text": [
      "Acc is: 0.7709471766848816\n"
     ]
    }
   ],
   "source": [
    "print(f\"Acc is: {np.mean(y_pred == y_test)}\")"
   ]
  },
  {
   "cell_type": "code",
   "execution_count": 44,
   "id": "3d471403-edc1-45ad-bc26-d8d56559dd5d",
   "metadata": {},
   "outputs": [
    {
     "name": "stdout",
     "output_type": "stream",
     "text": [
      "              precision    recall  f1-score   support\n",
      "\n",
      "    negative       0.81      0.91      0.86      1377\n",
      "     neutral       0.62      0.55      0.58       465\n",
      "    positive       0.77      0.51      0.61       354\n",
      "\n",
      "    accuracy                           0.77      2196\n",
      "   macro avg       0.73      0.66      0.69      2196\n",
      "weighted avg       0.76      0.77      0.76      2196\n",
      "\n"
     ]
    }
   ],
   "source": [
    "print(classification_report(y_test, y_pred))"
   ]
  },
  {
   "cell_type": "code",
   "execution_count": 45,
   "id": "b2c7705e-759e-460a-9716-c25c0a27b2a5",
   "metadata": {},
   "outputs": [
    {
     "data": {
      "text/plain": [
       "<sklearn.metrics._plot.confusion_matrix.ConfusionMatrixDisplay at 0x152c4b640>"
      ]
     },
     "execution_count": 45,
     "metadata": {},
     "output_type": "execute_result"
    },
    {
     "data": {
      "image/png": "[encoded data removed]",
      "text/plain": [
       "<Figure size 600x600 with 2 Axes>"
      ]
     },
     "metadata": {},
     "output_type": "display_data"
    }
   ],
   "source": [
    "fig, ax = plt.subplots(nrows=1, figsize=(6, 6))\n",
    "ax.grid(False)\n",
    "\n",
    "cm = confusion_matrix(y_test, y_pred)\n",
    "ConfusionMatrixDisplay(cm, display_labels = sorted(set(y_test))).plot(cmap=\"viridis\", ax=ax)"
   ]
  },
  {
   "cell_type": "markdown",
   "id": "f828fa01-c922-45bd-bba2-c17efe3a9ed2",
   "metadata": {},
   "source": [
    "### Embeddings tipo glove + deep learning"
   ]
  },
  {
   "cell_type": "markdown",
   "id": "6d7f3b7d-021d-4ce9-aa92-fa38b34af16b",
   "metadata": {},
   "source": [
    "### Procesamiento de datos"
   ]
  },
  {
   "cell_type": "code",
   "execution_count": 52,
   "id": "304178d3-2285-4f86-807e-f1e04f6a73f6",
   "metadata": {},
   "outputs": [],
   "source": [
    "import os\n",
    "from keras.preprocessing.text import Tokenizer\n",
    "import tensorflow as tf\n",
    "from keras.utils import pad_sequences"
   ]
  },
  {
   "cell_type": "code",
   "execution_count": 47,
   "id": "cd1fe073-8e9f-4fb2-a3e5-afd5e6ceb882",
   "metadata": {},
   "outputs": [],
   "source": [
    "tokenizer = Tokenizer(num_words=5000)\n",
    "tokenizer.fit_on_texts(X_train.values)\n",
    "\n",
    "vocab_size = len(tokenizer.word_index) + 1"
   ]
  },
  {
   "cell_type": "code",
   "execution_count": 48,
   "id": "4bc5cebd-e666-43f6-ae8b-da628f2e7086",
   "metadata": {},
   "outputs": [],
   "source": [
    "embeddings_index = {}\n",
    "\n",
    "with open(os.path.join('glove.6B.100d.txt')) as f:\n",
    "    for line in f:\n",
    "        values = line.split()\n",
    "        word = values[0]\n",
    "        embedding = np.asarray(values[1:], dtype='float32') \n",
    "        embeddings_index[word] = embedding"
   ]
  },
  {
   "cell_type": "code",
   "execution_count": 49,
   "id": "d83f8016-7563-440a-94bb-16a3b3a02502",
   "metadata": {},
   "outputs": [],
   "source": [
    "embedding_dim = 100\n",
    "\n",
    "word_index = tokenizer.word_index\n",
    "nb_words = min(vocab_size, len(word_index) + 1)\n",
    "\n",
    "embedding_matrix = np.zeros((nb_words, embedding_dim))\n",
    "\n",
    "for word, i in word_index.items():\n",
    "    embedding_vector = embeddings_index.get(word)\n",
    "    if embedding_vector is not None: \n",
    "        embedding_matrix[i] = embedding_vector"
   ]
  },
  {
   "cell_type": "code",
   "execution_count": 50,
   "id": "9786a44d-1696-459f-86f2-eaaa12f49768",
   "metadata": {},
   "outputs": [],
   "source": [
    "X_train_keras = tokenizer.texts_to_sequences(X_train)\n",
    "X_val_keras = tokenizer.texts_to_sequences(X_val)\n",
    "X_test_keras = tokenizer.texts_to_sequences(X_test)"
   ]
  },
  {
   "cell_type": "code",
   "execution_count": 53,
   "id": "d25ac576-cc19-4cbf-8629-aa644cc27ee9",
   "metadata": {},
   "outputs": [],
   "source": [
    "maxlen = 100\n",
    "\n",
    "X_train_keras = pad_sequences(X_train_keras, padding='post', maxlen=maxlen)\n",
    "X_val_keras = pad_sequences(X_val_keras, padding='post', maxlen=maxlen)\n",
    "X_test_keras = pad_sequences(X_test_keras, padding='post', maxlen=maxlen)"
   ]
  },
  {
   "cell_type": "code",
   "execution_count": 54,
   "id": "bcd390a5-e2b0-4210-89e1-636b02bead2a",
   "metadata": {},
   "outputs": [],
   "source": [
    "mapping = {x:idx for idx, x in enumerate(sorted(set(y_train)))}\n",
    "inverse_mapping = {idx:x for idx, x in enumerate(sorted(set(y_train)))}"
   ]
  },
  {
   "cell_type": "code",
   "execution_count": 55,
   "id": "db2e657d-0b2a-4d73-a82d-cd7daf6c11fb",
   "metadata": {},
   "outputs": [],
   "source": [
    "y_train_one_hot = tf.keras.utils.to_categorical(y_train.map(mapping).values, 3)\n",
    "y_val_one_hot = tf.keras.utils.to_categorical(y_val.map(mapping).values, 3)"
   ]
  },
  {
   "cell_type": "markdown",
   "id": "15aa3267-9138-44e7-aee2-409f9a8cda18",
   "metadata": {},
   "source": [
    "### Deep Learning"
   ]
  },
  {
   "cell_type": "code",
   "execution_count": 75,
   "id": "e51964a1-9a2a-45bf-a531-b8a287bc7c96",
   "metadata": {},
   "outputs": [],
   "source": [
    "from keras.models import Sequential\n",
    "from keras import layers\n",
    "\n",
    "from keras.layers import Activation, Conv1D, Dense, Embedding, Flatten, Input, MaxPooling1D, Bidirectional, LSTM, Dropout\n",
    "from keras.models import Sequential\n",
    "from keras.utils import pad_sequences\n",
    "from keras.metrics import categorical_accuracy"
   ]
  },
  {
   "cell_type": "code",
   "execution_count": 76,
   "id": "31c7f275-b11b-4e7d-8c34-3a1cdcd6ce5d",
   "metadata": {},
   "outputs": [],
   "source": [
    "import tensorflow as tf\n",
    "tf.config.run_functions_eagerly(True)"
   ]
  },
  {
   "cell_type": "code",
   "execution_count": 80,
   "id": "195a3b3f-6e5a-405e-84b7-f4d65b1e3e83",
   "metadata": {},
   "outputs": [
    {
     "name": "stdout",
     "output_type": "stream",
     "text": [
      "Model: \"sequential_2\"\n",
      "_________________________________________________________________\n",
      " Layer (type)                Output Shape              Param #   \n",
      "=================================================================\n",
      " embedding_2 (Embedding)     (None, 100, 100)          1088900   \n",
      "                                                                 \n",
      " conv1d_6 (Conv1D)           (None, 98, 128)           38528     \n",
      "                                                                 \n",
      " max_pooling1d_6 (MaxPoolin  (None, 32, 128)           0         \n",
      " g1D)                                                            \n",
      "                                                                 \n",
      " conv1d_7 (Conv1D)           (None, 30, 128)           49280     \n",
      "                                                                 \n",
      " max_pooling1d_7 (MaxPoolin  (None, 10, 128)           0         \n",
      " g1D)                                                            \n",
      "                                                                 \n",
      " conv1d_8 (Conv1D)           (None, 8, 128)            49280     \n",
      "                                                                 \n",
      " max_pooling1d_8 (MaxPoolin  (None, 2, 128)            0         \n",
      " g1D)                                                            \n",
      "                                                                 \n",
      " flatten_2 (Flatten)         (None, 256)               0         \n",
      "                                                                 \n",
      " dense_4 (Dense)             (None, 128)               32896     \n",
      "                                                                 \n",
      " dropout_1 (Dropout)         (None, 128)               0         \n",
      "                                                                 \n",
      " dense_5 (Dense)             (None, 3)                 387       \n",
      "                                                                 \n",
      "=================================================================\n",
      "Total params: 1259271 (4.80 MB)\n",
      "Trainable params: 1259271 (4.80 MB)\n",
      "Non-trainable params: 0 (0.00 Byte)\n",
      "_________________________________________________________________\n"
     ]
    }
   ],
   "source": [
    "model = Sequential()\n",
    "model.add(layers.Embedding(input_dim=vocab_size, \n",
    "                           output_dim=embedding_dim, \n",
    "                           input_length=maxlen,\n",
    "                            weights = [embedding_matrix], \n",
    "                            trainable = True))\n",
    "model.add(Conv1D(128, 3, activation='relu'))\n",
    "model.add(MaxPooling1D(3))\n",
    "model.add(Conv1D(128, 3, activation='relu'))\n",
    "model.add(MaxPooling1D(3))\n",
    "model.add(Conv1D(128, 3, activation='relu'))\n",
    "model.add(MaxPooling1D(3))\n",
    "model.add(Flatten())\n",
    "model.add(Dense(128, activation='relu'))\n",
    "model.add(Dropout(0.5))\n",
    "model.add(layers.Dense(3, activation='softmax'))\n",
    "\n",
    "\n",
    "model.compile(optimizer='adam',\n",
    "              loss='categorical_crossentropy',\n",
    "              metrics=['accuracy'])\n",
    "model.summary()"
   ]
  },
  {
   "cell_type": "code",
   "execution_count": null,
   "id": "6b574bea-5a7f-4a10-a3ea-fd491f71d434",
   "metadata": {},
   "outputs": [],
   "source": [
    "history = model.fit(X_train_keras, y_train_one_hot,\n",
    "                    epochs=40,\n",
    "                    verbose=True,\n",
    "                    validation_data=(X_val_keras, y_val_one_hot),\n",
    "                    batch_size=10)"
   ]
  },
  {
   "cell_type": "code",
   "execution_count": 82,
   "id": "9e9d2fe7-cfc8-4587-b586-4f40b4553833",
   "metadata": {},
   "outputs": [
    {
     "name": "stdout",
     "output_type": "stream",
     "text": [
      "69/69 [==============================] - 0s 6ms/step\n"
     ]
    }
   ],
   "source": [
    "y_pred = model.predict(X_test_keras)"
   ]
  },
  {
   "cell_type": "code",
   "execution_count": 83,
   "id": "80fc35e2-6a3c-4020-a971-0ff1a9a7ab0f",
   "metadata": {},
   "outputs": [],
   "source": [
    "y_pred = np.argmax(y_pred, axis = 1)"
   ]
  },
  {
   "cell_type": "markdown",
   "id": "d0f00806-03fc-4041-ad61-0a133952cf1a",
   "metadata": {},
   "source": [
    "### Resultados"
   ]
  },
  {
   "cell_type": "code",
   "execution_count": 84,
   "id": "7bcbc5d4-aaad-4a49-b34d-edbdd7fadea9",
   "metadata": {},
   "outputs": [],
   "source": [
    "y_pred = np.array([inverse_mapping[x] for x in y_pred])"
   ]
  },
  {
   "cell_type": "code",
   "execution_count": 85,
   "id": "c9944777-7aff-4b2f-9e8a-36523039c2d6",
   "metadata": {},
   "outputs": [
    {
     "name": "stdout",
     "output_type": "stream",
     "text": [
      "Acc is: 0.779143897996357\n"
     ]
    }
   ],
   "source": [
    "print(f\"Acc is: {np.mean(y_pred == y_test)}\")"
   ]
  },
  {
   "cell_type": "code",
   "execution_count": 86,
   "id": "c50b14b4-6a82-4bbb-88fc-a0c219ffb5f1",
   "metadata": {},
   "outputs": [
    {
     "name": "stdout",
     "output_type": "stream",
     "text": [
      "              precision    recall  f1-score   support\n",
      "\n",
      "    negative       0.87      0.85      0.86      1377\n",
      "     neutral       0.59      0.62      0.60       465\n",
      "    positive       0.70      0.70      0.70       354\n",
      "\n",
      "    accuracy                           0.78      2196\n",
      "   macro avg       0.72      0.72      0.72      2196\n",
      "weighted avg       0.78      0.78      0.78      2196\n",
      "\n"
     ]
    }
   ],
   "source": [
    "print(classification_report(y_test, y_pred))"
   ]
  },
  {
   "cell_type": "code",
   "execution_count": 87,
   "id": "4f631396-72d0-4190-a7af-cca580b5b671",
   "metadata": {},
   "outputs": [
    {
     "data": {
      "text/plain": [
       "<sklearn.metrics._plot.confusion_matrix.ConfusionMatrixDisplay at 0x2aa97b7f0>"
      ]
     },
     "execution_count": 87,
     "metadata": {},
     "output_type": "execute_result"
    },
    {
     "data": {
      "image/png": "[encoded data removed]",
      "text/plain": [
       "<Figure size 600x600 with 2 Axes>"
      ]
     },
     "metadata": {},
     "output_type": "display_data"
    }
   ],
   "source": [
    "fig, ax = plt.subplots(nrows=1, figsize=(6, 6))\n",
    "ax.grid(False)\n",
    "\n",
    "cm = confusion_matrix(y_test, y_pred)\n",
    "ConfusionMatrixDisplay(cm, display_labels = sorted(set(y_test))).plot(cmap=\"viridis\", ax=ax)"
   ]
  },
  {
   "cell_type": "markdown",
   "id": "ec550f28-6eaf-44fc-b774-5b30fe7ed130",
   "metadata": {},
   "source": [
    "### Comparar resultados"
   ]
  },
  {
   "cell_type": "code",
   "execution_count": 68,
   "id": "97bcf476-bb1c-443b-806f-87788a0207ec",
   "metadata": {},
   "outputs": [],
   "source": [
    "import matplotlib.pyplot as plt"
   ]
  },
  {
   "cell_type": "code",
   "execution_count": 88,
   "id": "97db72c3-8068-40f9-8baa-2d39301e1573",
   "metadata": {},
   "outputs": [],
   "source": [
    "model_results = {\n",
    "\"Bayes\" : 0.7682,\n",
    "\n",
    "\"Random_Forest\": 0.7090,\n",
    "\n",
    "\"SVM\" : 0.7709,\n",
    "\n",
    "\"Glove_CNN\" : 0.778\n",
    "}"
   ]
  },
  {
   "cell_type": "code",
   "execution_count": 89,
   "id": "53aede54-9ae3-4376-ac7a-b01489e3795c",
   "metadata": {},
   "outputs": [
    {
     "data": {
      "text/plain": [
       "<Axes: >"
      ]
     },
     "execution_count": 89,
     "metadata": {},
     "output_type": "execute_result"
    },
    {
     "data": {
      "image/png": "[encoded data removed]",
      "text/plain": [
       "<Figure size 600x600 with 1 Axes>"
      ]
     },
     "metadata": {},
     "output_type": "display_data"
    }
   ],
   "source": [
    "fig, ax = plt.subplots(figsize=(6, 6))\n",
    "pd.DataFrame(model_results.values(), index = model_results.keys(), columns = [\"Acc\"]).sort_values(by=\"Acc\").plot.bar(ax=ax)"
   ]
  },
  {
   "cell_type": "code",
   "execution_count": null,
   "id": "6bd64203-0754-42ac-a65c-d0f4b22233be",
   "metadata": {},
   "outputs": [],
   "source": []
  }
 ],
 "metadata": {
  "kernelspec": {
   "display_name": "Python 3 (ipykernel)",
   "language": "python",
   "name": "python3"
  },
  "language_info": {
   "codemirror_mode": {
    "name": "ipython",
    "version": 3
   },
   "file_extension": ".py",
   "mimetype": "text/x-python",
   "name": "python",
   "nbconvert_exporter": "python",
   "pygments_lexer": "ipython3",
   "version": "3.9.2"
  }
 },
 "nbformat": 4,
 "nbformat_minor": 5
}
